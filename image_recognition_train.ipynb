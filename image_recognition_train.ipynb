{
  "nbformat": 4,
  "nbformat_minor": 0,
  "metadata": {
    "colab": {
      "provenance": [],
      "mount_file_id": "1CfYcXd6mHMtUomi-XEdUE6rySckXwPOK",
      "authorship_tag": "ABX9TyOT27u0KYwOXpQiShwrmn1l",
      "include_colab_link": true
    },
    "kernelspec": {
      "name": "python3",
      "display_name": "Python 3"
    },
    "language_info": {
      "name": "python"
    }
  },
  "cells": [
    {
      "cell_type": "markdown",
      "metadata": {
        "id": "view-in-github",
        "colab_type": "text"
      },
      "source": [
        "<a href=\"https://colab.research.google.com/github/udayr2809/Image-Recognition/blob/main/image_recognition_train.ipynb\" target=\"_parent\"><img src=\"https://colab.research.google.com/assets/colab-badge.svg\" alt=\"Open In Colab\"/></a>"
      ]
    },
    {
      "cell_type": "markdown",
      "source": [
        "# Importing Libraries"
      ],
      "metadata": {
        "id": "eNORSx6SoS2W"
      }
    },
    {
      "cell_type": "code",
      "execution_count": 2,
      "metadata": {
        "id": "oxd2Sd-1l0fg"
      },
      "outputs": [],
      "source": [
        "import tensorflow as tf\n",
        "import matplotlib.pyplot as plt"
      ]
    },
    {
      "cell_type": "markdown",
      "source": [
        "# Data Preprocessing"
      ],
      "metadata": {
        "id": "pAtB8dDlocr-"
      }
    },
    {
      "cell_type": "code",
      "source": [
        "training_set = tf.keras.utils.image_dataset_from_directory(\n",
        "    '/content/drive/MyDrive/Dataset/archive/train',\n",
        "    labels=\"inferred\",\n",
        "    label_mode=\"categorical\",\n",
        "    class_names=None,\n",
        "    color_mode=\"rgb\",\n",
        "    batch_size=32,\n",
        "    image_size=(64, 64),\n",
        "    shuffle=True,\n",
        "    seed=None,\n",
        "    validation_split=None,\n",
        "    subset=None,\n",
        "    interpolation=\"bilinear\",\n",
        "    follow_links=False,\n",
        "    crop_to_aspect_ratio=False\n",
        ")"
      ],
      "metadata": {
        "colab": {
          "base_uri": "https://localhost:8080/"
        },
        "id": "fKmR6WjjmA0s",
        "outputId": "41b123c5-29a4-44ea-b0cf-b35bced6081a"
      },
      "execution_count": 4,
      "outputs": [
        {
          "output_type": "stream",
          "name": "stdout",
          "text": [
            "Found 3115 files belonging to 36 classes.\n"
          ]
        }
      ]
    },
    {
      "cell_type": "code",
      "source": [
        "validation_set = tf.keras.utils.image_dataset_from_directory(\n",
        "    '/content/drive/MyDrive/Dataset/archive/validation',\n",
        "    labels=\"inferred\",\n",
        "    label_mode=\"categorical\",\n",
        "    class_names=None,\n",
        "    color_mode=\"rgb\",\n",
        "    batch_size=32,\n",
        "    image_size=(64, 64),\n",
        "    shuffle=True,\n",
        "    seed=None,\n",
        "    validation_split=None,\n",
        "    subset=None,\n",
        "    interpolation=\"bilinear\",\n",
        "    follow_links=False,\n",
        "    crop_to_aspect_ratio=False\n",
        ")"
      ],
      "metadata": {
        "colab": {
          "base_uri": "https://localhost:8080/"
        },
        "id": "dGwgTCVymYnw",
        "outputId": "ac512a57-aa1f-4ae1-bbd4-0b4548b1d0ed"
      },
      "execution_count": 5,
      "outputs": [
        {
          "output_type": "stream",
          "name": "stdout",
          "text": [
            "Found 351 files belonging to 36 classes.\n"
          ]
        }
      ]
    },
    {
      "cell_type": "markdown",
      "source": [
        "# Building Model"
      ],
      "metadata": {
        "id": "kBwjNtlkokAO"
      }
    },
    {
      "cell_type": "code",
      "source": [
        "cnn = tf.keras.models.Sequential()"
      ],
      "metadata": {
        "id": "ZSNMc_OImclo"
      },
      "execution_count": 25,
      "outputs": []
    },
    {
      "cell_type": "code",
      "source": [
        "cnn.add(tf.keras.layers.Conv2D(filters=64,kernel_size=3,activation='relu',input_shape=[64,64,3]))\n",
        "cnn.add(tf.keras.layers.MaxPool2D(pool_size=2,strides=2))"
      ],
      "metadata": {
        "id": "xqddBFKMmhhC"
      },
      "execution_count": 26,
      "outputs": []
    },
    {
      "cell_type": "code",
      "source": [
        "cnn.add(tf.keras.layers.Dropout(0.5))"
      ],
      "metadata": {
        "id": "tC5s1qNknM0W"
      },
      "execution_count": 27,
      "outputs": []
    },
    {
      "cell_type": "code",
      "source": [
        "cnn.add(tf.keras.layers.Flatten())\n",
        "cnn.add(tf.keras.layers.Dense(units=128,activation='relu'))\n",
        "cnn.add(tf.keras.layers.Dense(units=36,activation='softmax'))"
      ],
      "metadata": {
        "id": "OoEuLnMWndqu"
      },
      "execution_count": 28,
      "outputs": []
    },
    {
      "cell_type": "markdown",
      "source": [
        "# Compiling and Training"
      ],
      "metadata": {
        "id": "94vjFy5LosDQ"
      }
    },
    {
      "cell_type": "code",
      "source": [
        "cnn.compile(optimizer='adam',loss='categorical_crossentropy',metrics=['accuracy'])"
      ],
      "metadata": {
        "id": "WyCyy8LdmwLi"
      },
      "execution_count": 29,
      "outputs": []
    },
    {
      "cell_type": "code",
      "source": [
        "cnn.summary()"
      ],
      "metadata": {
        "colab": {
          "base_uri": "https://localhost:8080/"
        },
        "id": "-NboZZFGmwzp",
        "outputId": "dae2ca16-3063-43df-d36e-e0c1b1843749"
      },
      "execution_count": 30,
      "outputs": [
        {
          "output_type": "stream",
          "name": "stdout",
          "text": [
            "Model: \"sequential_2\"\n",
            "_________________________________________________________________\n",
            " Layer (type)                Output Shape              Param #   \n",
            "=================================================================\n",
            " conv2d_9 (Conv2D)           (None, 62, 62, 64)        1792      \n",
            "                                                                 \n",
            " max_pooling2d_4 (MaxPoolin  (None, 31, 31, 64)        0         \n",
            " g2D)                                                            \n",
            "                                                                 \n",
            " dropout_6 (Dropout)         (None, 31, 31, 64)        0         \n",
            "                                                                 \n",
            " flatten_2 (Flatten)         (None, 61504)             0         \n",
            "                                                                 \n",
            " dense_7 (Dense)             (None, 128)               7872640   \n",
            "                                                                 \n",
            " dense_8 (Dense)             (None, 36)                4644      \n",
            "                                                                 \n",
            "=================================================================\n",
            "Total params: 7879076 (30.06 MB)\n",
            "Trainable params: 7879076 (30.06 MB)\n",
            "Non-trainable params: 0 (0.00 Byte)\n",
            "_________________________________________________________________\n"
          ]
        }
      ]
    },
    {
      "cell_type": "code",
      "source": [
        "training_history = cnn.fit(x=training_set,validation_data=validation_set,epochs=32)"
      ],
      "metadata": {
        "colab": {
          "base_uri": "https://localhost:8080/"
        },
        "id": "Ly6z-thtmy-y",
        "outputId": "3371036d-724f-44ce-9598-3f158c9efb53"
      },
      "execution_count": 31,
      "outputs": [
        {
          "output_type": "stream",
          "name": "stdout",
          "text": [
            "Epoch 1/32\n",
            "98/98 [==============================] - 115s 1s/step - loss: 51.0107 - accuracy: 0.0337 - val_loss: 3.5267 - val_accuracy: 0.0228\n",
            "Epoch 2/32\n",
            "98/98 [==============================] - 111s 1s/step - loss: 3.5373 - accuracy: 0.0382 - val_loss: 3.3794 - val_accuracy: 0.1111\n",
            "Epoch 3/32\n",
            "98/98 [==============================] - 109s 1s/step - loss: 3.4080 - accuracy: 0.0870 - val_loss: 2.9767 - val_accuracy: 0.1795\n",
            "Epoch 4/32\n",
            "98/98 [==============================] - 119s 1s/step - loss: 3.1341 - accuracy: 0.1535 - val_loss: 2.6480 - val_accuracy: 0.2764\n",
            "Epoch 5/32\n",
            "98/98 [==============================] - 108s 1s/step - loss: 2.7925 - accuracy: 0.2189 - val_loss: 2.2037 - val_accuracy: 0.4103\n",
            "Epoch 6/32\n",
            "98/98 [==============================] - 116s 1s/step - loss: 2.4284 - accuracy: 0.3239 - val_loss: 1.7992 - val_accuracy: 0.5185\n",
            "Epoch 7/32\n",
            "98/98 [==============================] - 108s 1s/step - loss: 2.0867 - accuracy: 0.4222 - val_loss: 1.4634 - val_accuracy: 0.6353\n",
            "Epoch 8/32\n",
            "98/98 [==============================] - 110s 1s/step - loss: 1.7787 - accuracy: 0.5079 - val_loss: 1.2219 - val_accuracy: 0.7066\n",
            "Epoch 9/32\n",
            "98/98 [==============================] - 116s 1s/step - loss: 1.4651 - accuracy: 0.5952 - val_loss: 1.0641 - val_accuracy: 0.7664\n",
            "Epoch 10/32\n",
            "98/98 [==============================] - 119s 1s/step - loss: 1.2146 - accuracy: 0.6626 - val_loss: 1.0050 - val_accuracy: 0.7920\n",
            "Epoch 11/32\n",
            "98/98 [==============================] - 109s 1s/step - loss: 1.0069 - accuracy: 0.7114 - val_loss: 0.8740 - val_accuracy: 0.8462\n",
            "Epoch 12/32\n",
            "98/98 [==============================] - 110s 1s/step - loss: 0.9093 - accuracy: 0.7579 - val_loss: 0.8902 - val_accuracy: 0.8291\n",
            "Epoch 13/32\n",
            "98/98 [==============================] - 108s 1s/step - loss: 0.7567 - accuracy: 0.7753 - val_loss: 0.7410 - val_accuracy: 0.8604\n",
            "Epoch 14/32\n",
            "98/98 [==============================] - 109s 1s/step - loss: 0.6443 - accuracy: 0.8212 - val_loss: 0.8003 - val_accuracy: 0.8519\n",
            "Epoch 15/32\n",
            "98/98 [==============================] - 113s 1s/step - loss: 0.5841 - accuracy: 0.8427 - val_loss: 0.8143 - val_accuracy: 0.8974\n",
            "Epoch 16/32\n",
            "98/98 [==============================] - 109s 1s/step - loss: 0.4958 - accuracy: 0.8693 - val_loss: 0.8091 - val_accuracy: 0.8917\n",
            "Epoch 17/32\n",
            "98/98 [==============================] - 109s 1s/step - loss: 0.4428 - accuracy: 0.8803 - val_loss: 0.7416 - val_accuracy: 0.9003\n",
            "Epoch 18/32\n",
            "98/98 [==============================] - 108s 1s/step - loss: 0.4411 - accuracy: 0.8793 - val_loss: 0.7521 - val_accuracy: 0.9060\n",
            "Epoch 19/32\n",
            "98/98 [==============================] - 107s 1s/step - loss: 0.3810 - accuracy: 0.8982 - val_loss: 0.6755 - val_accuracy: 0.9117\n",
            "Epoch 20/32\n",
            "98/98 [==============================] - 110s 1s/step - loss: 0.3457 - accuracy: 0.9005 - val_loss: 0.7976 - val_accuracy: 0.9145\n",
            "Epoch 21/32\n",
            "98/98 [==============================] - 114s 1s/step - loss: 0.3760 - accuracy: 0.9101 - val_loss: 0.8377 - val_accuracy: 0.9088\n",
            "Epoch 22/32\n",
            "98/98 [==============================] - 112s 1s/step - loss: 0.3069 - accuracy: 0.9204 - val_loss: 1.1454 - val_accuracy: 0.9003\n",
            "Epoch 23/32\n",
            "98/98 [==============================] - 117s 1s/step - loss: 0.2866 - accuracy: 0.9274 - val_loss: 0.8890 - val_accuracy: 0.9174\n",
            "Epoch 24/32\n",
            "98/98 [==============================] - 109s 1s/step - loss: 0.2460 - accuracy: 0.9313 - val_loss: 0.8290 - val_accuracy: 0.9231\n",
            "Epoch 25/32\n",
            "98/98 [==============================] - 109s 1s/step - loss: 0.2478 - accuracy: 0.9361 - val_loss: 0.7737 - val_accuracy: 0.9202\n",
            "Epoch 26/32\n",
            "98/98 [==============================] - 111s 1s/step - loss: 0.2652 - accuracy: 0.9335 - val_loss: 0.8733 - val_accuracy: 0.9174\n",
            "Epoch 27/32\n",
            "98/98 [==============================] - 108s 1s/step - loss: 0.2585 - accuracy: 0.9342 - val_loss: 0.9768 - val_accuracy: 0.9145\n",
            "Epoch 28/32\n",
            "98/98 [==============================] - 108s 1s/step - loss: 0.2904 - accuracy: 0.9313 - val_loss: 0.8258 - val_accuracy: 0.9174\n",
            "Epoch 29/32\n",
            "98/98 [==============================] - 109s 1s/step - loss: 0.2731 - accuracy: 0.9342 - val_loss: 0.9823 - val_accuracy: 0.9259\n",
            "Epoch 30/32\n",
            "98/98 [==============================] - 112s 1s/step - loss: 0.2259 - accuracy: 0.9451 - val_loss: 0.8474 - val_accuracy: 0.9316\n",
            "Epoch 31/32\n",
            "98/98 [==============================] - 120s 1s/step - loss: 0.2409 - accuracy: 0.9364 - val_loss: 0.8075 - val_accuracy: 0.9288\n",
            "Epoch 32/32\n",
            "98/98 [==============================] - 108s 1s/step - loss: 0.2481 - accuracy: 0.9406 - val_loss: 0.8878 - val_accuracy: 0.9345\n"
          ]
        }
      ]
    },
    {
      "cell_type": "markdown",
      "source": [
        "# Evaluating"
      ],
      "metadata": {
        "id": "iHLFG0g_ozor"
      }
    },
    {
      "cell_type": "code",
      "source": [
        "train_loss, train_acc = cnn.evaluate(training_set)\n",
        "print('Training accuracy:', train_acc*100)"
      ],
      "metadata": {
        "colab": {
          "base_uri": "https://localhost:8080/"
        },
        "id": "kiFaaeOJm4IQ",
        "outputId": "15d22976-e718-40b3-cfe6-20da9f9d2d9b"
      },
      "execution_count": 32,
      "outputs": [
        {
          "output_type": "stream",
          "name": "stdout",
          "text": [
            "98/98 [==============================] - 89s 810ms/step - loss: 0.1407 - accuracy: 0.9660\n",
            "Training accuracy: 96.59711122512817\n"
          ]
        }
      ]
    },
    {
      "cell_type": "code",
      "source": [
        "val_loss, val_acc = cnn.evaluate(validation_set)\n",
        "print('Validation accuracy:', val_acc*100)"
      ],
      "metadata": {
        "colab": {
          "base_uri": "https://localhost:8080/"
        },
        "id": "uq9SYOSvn1qn",
        "outputId": "a35fe481-8598-4f9d-93f3-85f9b79c1ecc"
      },
      "execution_count": 33,
      "outputs": [
        {
          "output_type": "stream",
          "name": "stdout",
          "text": [
            "11/11 [==============================] - 13s 327ms/step - loss: 0.8878 - accuracy: 0.9345\n",
            "Validation accuracy: 93.4472918510437\n"
          ]
        }
      ]
    },
    {
      "cell_type": "code",
      "source": [
        "cnn.save('/content/drive/MyDrive/Dataset/archive/model/trained_model.h5')"
      ],
      "metadata": {
        "colab": {
          "base_uri": "https://localhost:8080/"
        },
        "id": "2_xVi8D3n5Tk",
        "outputId": "2ec2c8b3-788e-4f26-863c-9772c124f2cc"
      },
      "execution_count": 34,
      "outputs": [
        {
          "output_type": "stream",
          "name": "stderr",
          "text": [
            "/usr/local/lib/python3.10/dist-packages/keras/src/engine/training.py:3103: UserWarning: You are saving your model as an HDF5 file via `model.save()`. This file format is considered legacy. We recommend using instead the native Keras format, e.g. `model.save('my_model.keras')`.\n",
            "  saving_api.save_model(\n"
          ]
        }
      ]
    },
    {
      "cell_type": "code",
      "source": [
        "print(\"Validation set Accuracy: {} %\".format(training_history.history['val_accuracy'][-1]*100))"
      ],
      "metadata": {
        "colab": {
          "base_uri": "https://localhost:8080/"
        },
        "id": "_9mLHjZKn8R6",
        "outputId": "1b486451-47d1-4b00-c7b2-050146dc4944"
      },
      "execution_count": 35,
      "outputs": [
        {
          "output_type": "stream",
          "name": "stdout",
          "text": [
            "Validation set Accuracy: 93.4472918510437 %\n"
          ]
        }
      ]
    },
    {
      "cell_type": "code",
      "source": [
        "test_set = tf.keras.utils.image_dataset_from_directory(\n",
        "    '/content/drive/MyDrive/Dataset/archive/test',\n",
        "    labels=\"inferred\",\n",
        "    label_mode=\"categorical\",\n",
        "    class_names=None,\n",
        "    color_mode=\"rgb\",\n",
        "    batch_size=32,\n",
        "    image_size=(64, 64),\n",
        "    shuffle=True,\n",
        "    seed=None,\n",
        "    validation_split=None,\n",
        "    subset=None,\n",
        "    interpolation=\"bilinear\",\n",
        "    follow_links=False,\n",
        "    crop_to_aspect_ratio=False\n",
        ")"
      ],
      "metadata": {
        "colab": {
          "base_uri": "https://localhost:8080/"
        },
        "id": "afTFVEz3oKGW",
        "outputId": "36764673-5576-4a8d-8bfc-7a218357e198"
      },
      "execution_count": 37,
      "outputs": [
        {
          "output_type": "stream",
          "name": "stdout",
          "text": [
            "Found 377 files belonging to 36 classes.\n"
          ]
        }
      ]
    },
    {
      "cell_type": "code",
      "source": [
        "test_loss,test_acc = cnn.evaluate(test_set)\n",
        "print('Test accuracy:', test_acc)"
      ],
      "metadata": {
        "colab": {
          "base_uri": "https://localhost:8080/"
        },
        "id": "3X2MBD-BoLTx",
        "outputId": "30449aa8-62b7-4ec1-bc7c-894ef60c6dca"
      },
      "execution_count": 38,
      "outputs": [
        {
          "output_type": "stream",
          "name": "stdout",
          "text": [
            "12/12 [==============================] - 123s 3s/step - loss: 1.1113 - accuracy: 0.9257\n",
            "Test accuracy: 0.9257294535636902\n"
          ]
        }
      ]
    }
  ]
}